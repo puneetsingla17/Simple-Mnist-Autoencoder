{
  "cells": [
    {
      "metadata": {
        "_uuid": "8f2839f25d086af736a60e9eeb907d3b93b6e0e5",
        "_cell_guid": "b1076dfc-b9ad-4769-8c92-a6c4dae69d19",
        "trusted": true
      },
      "cell_type": "code",
      "source": "# This Python 3 environment comes with many helpful analytics libraries installed\n# It is defined by the kaggle/python docker image: https://github.com/kaggle/docker-python\n# For example, here's several helpful packages to load in \n\nimport numpy as np # linear algebra\nimport pandas as pd # data processing, CSV file I/O (e.g. pd.read_csv)\nfrom keras.layers import Conv2D,UpSampling2D,Input,MaxPooling2D,BatchNormalization,Flatten,Activation,Dropout\nfrom keras.models import Sequential,Model\n# Input data files are available in the \"../input/\" directory.\n# For example, running this (by clicking run or pressing Shift+Enter) will list the files in the input directory\nfrom keras.datasets import mnist\nimport os\nprint(os.listdir(\"../input\"))\n\n# Any results you write to the current directory are saved as output.",
      "execution_count": 2,
      "outputs": [
        {
          "output_type": "stream",
          "text": "[]\n",
          "name": "stdout"
        }
      ]
    },
    {
      "metadata": {
        "_cell_guid": "79c7e3d0-c299-4dcb-8224-4455121ee9b0",
        "_uuid": "d629ff2d2480ee46fbb7e2d37f6b5fab8052498a",
        "trusted": true
      },
      "cell_type": "code",
      "source": "(xtrain,ytrain),(xtest,ytest)=mnist.load_data()",
      "execution_count": 3,
      "outputs": [
        {
          "output_type": "stream",
          "text": "Downloading data from https://s3.amazonaws.com/img-datasets/mnist.npz\n11493376/11490434 [==============================] - 1s 0us/step\n",
          "name": "stdout"
        }
      ]
    },
    {
      "metadata": {
        "trusted": true,
        "_uuid": "c5008219b3e3493284cc5dc69c5a80e5883bdd75"
      },
      "cell_type": "code",
      "source": "xtrain=xtrain.astype('float32')/255\nxtrain=np.expand_dims(xtrain,axis=3)\nxtrain.shape",
      "execution_count": 4,
      "outputs": [
        {
          "output_type": "execute_result",
          "execution_count": 4,
          "data": {
            "text/plain": "(60000, 28, 28, 1)"
          },
          "metadata": {}
        }
      ]
    },
    {
      "metadata": {
        "trusted": true,
        "_uuid": "06f46355cd76775c918b9b43cf3eeab7cf3f73ef"
      },
      "cell_type": "code",
      "source": "xtest=xtest.astype('float32')/255\nxtest=np.expand_dims(xtest,axis=3)\nxtest.shape",
      "execution_count": 5,
      "outputs": [
        {
          "output_type": "execute_result",
          "execution_count": 5,
          "data": {
            "text/plain": "(10000, 28, 28, 1)"
          },
          "metadata": {}
        }
      ]
    },
    {
      "metadata": {
        "trusted": true,
        "_uuid": "12d09ccbc15e4a7053eecf90e0dd6d11075de8d1"
      },
      "cell_type": "code",
      "source": "input_img=Input(shape=(28,28,1))\nx=Conv2D(16,(3,3),padding='same')(input_img)\nx=BatchNormalization()(x)\nx=Activation('relu')(x)\nx=MaxPooling2D((2,2),padding='same')(x)\nx=Conv2D(8,(3,3),padding='same')(x)\nx=BatchNormalization()(x)\nx=Activation('relu')(x)\nx=MaxPooling2D((2,2),padding='same')(x)\nx=Conv2D(8,(3,3),padding='same')(x)\nx=BatchNormalization()(x)\nx=Activation('relu')(x)\nEncoded=MaxPooling2D((2,2),padding='same')(x)",
      "execution_count": 6,
      "outputs": []
    },
    {
      "metadata": {
        "trusted": true,
        "_uuid": "78adce15396535548ce0ca8bc9dc0f9c13f672bf"
      },
      "cell_type": "code",
      "source": "x=Conv2D(8,(3,3),padding='same')(Encoded)\nx=BatchNormalization()(x)\nx=Activation('relu')(x)\nx=UpSampling2D((2,2))(x)\nx=Conv2D(8,(3,3),padding='same')(x)\nx=BatchNormalization()(x)\nx=Activation('relu')(x)\nx=UpSampling2D((2,2))(x)\nx=Conv2D(16,(3,3),padding='valid')(x)\nx=BatchNormalization()(x)\nx=Activation('relu')(x)\nx=UpSampling2D((2,2))(x)\ndecoded=Conv2D(1,(3,3),activation='sigmoid',padding='same')(x)",
      "execution_count": 7,
      "outputs": []
    },
    {
      "metadata": {
        "trusted": true,
        "_uuid": "99f05a0fa271ea4a23f2dd67522e5ac88dd2f3d6"
      },
      "cell_type": "code",
      "source": "model=Model(input_img,decoded)",
      "execution_count": 8,
      "outputs": []
    },
    {
      "metadata": {
        "trusted": true,
        "_uuid": "7c8e7d204fdfaa04382f9e0d5059a9814e13b763"
      },
      "cell_type": "code",
      "source": "model.summary()\nmodel.compile(optimizer='adam',metrics=['accuracy'],loss='binary_crossentropy')",
      "execution_count": 9,
      "outputs": [
        {
          "output_type": "stream",
          "text": "_________________________________________________________________\nLayer (type)                 Output Shape              Param #   \n=================================================================\ninput_1 (InputLayer)         (None, 28, 28, 1)         0         \n_________________________________________________________________\nconv2d_1 (Conv2D)            (None, 28, 28, 16)        160       \n_________________________________________________________________\nbatch_normalization_1 (Batch (None, 28, 28, 16)        64        \n_________________________________________________________________\nactivation_1 (Activation)    (None, 28, 28, 16)        0         \n_________________________________________________________________\nmax_pooling2d_1 (MaxPooling2 (None, 14, 14, 16)        0         \n_________________________________________________________________\nconv2d_2 (Conv2D)            (None, 14, 14, 8)         1160      \n_________________________________________________________________\nbatch_normalization_2 (Batch (None, 14, 14, 8)         32        \n_________________________________________________________________\nactivation_2 (Activation)    (None, 14, 14, 8)         0         \n_________________________________________________________________\nmax_pooling2d_2 (MaxPooling2 (None, 7, 7, 8)           0         \n_________________________________________________________________\nconv2d_3 (Conv2D)            (None, 7, 7, 8)           584       \n_________________________________________________________________\nbatch_normalization_3 (Batch (None, 7, 7, 8)           32        \n_________________________________________________________________\nactivation_3 (Activation)    (None, 7, 7, 8)           0         \n_________________________________________________________________\nmax_pooling2d_3 (MaxPooling2 (None, 4, 4, 8)           0         \n_________________________________________________________________\nconv2d_4 (Conv2D)            (None, 4, 4, 8)           584       \n_________________________________________________________________\nbatch_normalization_4 (Batch (None, 4, 4, 8)           32        \n_________________________________________________________________\nactivation_4 (Activation)    (None, 4, 4, 8)           0         \n_________________________________________________________________\nup_sampling2d_1 (UpSampling2 (None, 8, 8, 8)           0         \n_________________________________________________________________\nconv2d_5 (Conv2D)            (None, 8, 8, 8)           584       \n_________________________________________________________________\nbatch_normalization_5 (Batch (None, 8, 8, 8)           32        \n_________________________________________________________________\nactivation_5 (Activation)    (None, 8, 8, 8)           0         \n_________________________________________________________________\nup_sampling2d_2 (UpSampling2 (None, 16, 16, 8)         0         \n_________________________________________________________________\nconv2d_6 (Conv2D)            (None, 14, 14, 16)        1168      \n_________________________________________________________________\nbatch_normalization_6 (Batch (None, 14, 14, 16)        64        \n_________________________________________________________________\nactivation_6 (Activation)    (None, 14, 14, 16)        0         \n_________________________________________________________________\nup_sampling2d_3 (UpSampling2 (None, 28, 28, 16)        0         \n_________________________________________________________________\nconv2d_7 (Conv2D)            (None, 28, 28, 1)         145       \n=================================================================\nTotal params: 4,641\nTrainable params: 4,513\nNon-trainable params: 128\n_________________________________________________________________\n",
          "name": "stdout"
        }
      ]
    },
    {
      "metadata": {
        "trusted": true,
        "_uuid": "7e03ca6fbee3553aaa468f7ea6935673506a6bd8"
      },
      "cell_type": "code",
      "source": "model.fit(xtrain,xtrain,epochs=30,batch_size=128,shuffle=True,validation_data=(xtest,xtest))",
      "execution_count": 10,
      "outputs": [
        {
          "output_type": "stream",
          "text": "Train on 60000 samples, validate on 10000 samples\nEpoch 1/30\n60000/60000 [==============================] - 11s 186us/step - loss: 0.1838 - acc: 0.7959 - val_loss: 0.1408 - val_acc: 0.7986\nEpoch 2/30\n60000/60000 [==============================] - 9s 146us/step - loss: 0.1217 - acc: 0.8087 - val_loss: 0.1224 - val_acc: 0.8038\nEpoch 3/30\n60000/60000 [==============================] - 9s 145us/step - loss: 0.1103 - acc: 0.8106 - val_loss: 0.1064 - val_acc: 0.8097\nEpoch 4/30\n60000/60000 [==============================] - 9s 145us/step - loss: 0.1053 - acc: 0.8114 - val_loss: 0.1024 - val_acc: 0.8109\nEpoch 5/30\n60000/60000 [==============================] - 9s 145us/step - loss: 0.1022 - acc: 0.8119 - val_loss: 0.1053 - val_acc: 0.8084\nEpoch 6/30\n60000/60000 [==============================] - 9s 145us/step - loss: 0.1000 - acc: 0.8123 - val_loss: 0.0976 - val_acc: 0.8115\nEpoch 7/30\n60000/60000 [==============================] - 9s 144us/step - loss: 0.0983 - acc: 0.8125 - val_loss: 0.0965 - val_acc: 0.8113\nEpoch 8/30\n60000/60000 [==============================] - 9s 143us/step - loss: 0.0970 - acc: 0.8127 - val_loss: 0.0964 - val_acc: 0.8109\nEpoch 9/30\n60000/60000 [==============================] - 9s 143us/step - loss: 0.0959 - acc: 0.8128 - val_loss: 0.0940 - val_acc: 0.8119\nEpoch 10/30\n60000/60000 [==============================] - 9s 143us/step - loss: 0.0951 - acc: 0.8130 - val_loss: 0.0944 - val_acc: 0.8118\nEpoch 11/30\n60000/60000 [==============================] - 9s 143us/step - loss: 0.0945 - acc: 0.8130 - val_loss: 0.0946 - val_acc: 0.8118\nEpoch 12/30\n60000/60000 [==============================] - 9s 143us/step - loss: 0.0938 - acc: 0.8131 - val_loss: 0.0939 - val_acc: 0.8111\nEpoch 13/30\n60000/60000 [==============================] - 9s 144us/step - loss: 0.0933 - acc: 0.8132 - val_loss: 0.0946 - val_acc: 0.8114\nEpoch 14/30\n60000/60000 [==============================] - 9s 143us/step - loss: 0.0927 - acc: 0.8133 - val_loss: 0.0923 - val_acc: 0.8124\nEpoch 15/30\n60000/60000 [==============================] - 9s 142us/step - loss: 0.0922 - acc: 0.8133 - val_loss: 0.0917 - val_acc: 0.8117\nEpoch 16/30\n60000/60000 [==============================] - 9s 143us/step - loss: 0.0918 - acc: 0.8134 - val_loss: 0.0907 - val_acc: 0.8129\nEpoch 17/30\n60000/60000 [==============================] - 9s 143us/step - loss: 0.0914 - acc: 0.8134 - val_loss: 0.0896 - val_acc: 0.8126\nEpoch 18/30\n60000/60000 [==============================] - 9s 143us/step - loss: 0.0910 - acc: 0.8135 - val_loss: 0.0910 - val_acc: 0.8119\nEpoch 19/30\n60000/60000 [==============================] - 9s 143us/step - loss: 0.0906 - acc: 0.8135 - val_loss: 0.0894 - val_acc: 0.8123\nEpoch 20/30\n60000/60000 [==============================] - 9s 142us/step - loss: 0.0902 - acc: 0.8136 - val_loss: 0.0906 - val_acc: 0.8118\nEpoch 21/30\n60000/60000 [==============================] - 9s 143us/step - loss: 0.0898 - acc: 0.8136 - val_loss: 0.0888 - val_acc: 0.8124\nEpoch 22/30\n60000/60000 [==============================] - 9s 143us/step - loss: 0.0896 - acc: 0.8137 - val_loss: 0.0882 - val_acc: 0.8129\nEpoch 23/30\n60000/60000 [==============================] - 9s 143us/step - loss: 0.0893 - acc: 0.8137 - val_loss: 0.0897 - val_acc: 0.8124\nEpoch 24/30\n60000/60000 [==============================] - 8s 141us/step - loss: 0.0890 - acc: 0.8137 - val_loss: 0.0893 - val_acc: 0.8121\nEpoch 25/30\n60000/60000 [==============================] - 9s 142us/step - loss: 0.0888 - acc: 0.8138 - val_loss: 0.0876 - val_acc: 0.8130\nEpoch 26/30\n60000/60000 [==============================] - 9s 143us/step - loss: 0.0885 - acc: 0.8138 - val_loss: 0.0874 - val_acc: 0.8129\nEpoch 27/30\n60000/60000 [==============================] - 9s 142us/step - loss: 0.0884 - acc: 0.8138 - val_loss: 0.0880 - val_acc: 0.8126\nEpoch 28/30\n60000/60000 [==============================] - 9s 143us/step - loss: 0.0882 - acc: 0.8138 - val_loss: 0.0870 - val_acc: 0.8129\nEpoch 29/30\n60000/60000 [==============================] - 9s 142us/step - loss: 0.0881 - acc: 0.8139 - val_loss: 0.0912 - val_acc: 0.8135\nEpoch 30/30\n60000/60000 [==============================] - 9s 143us/step - loss: 0.0880 - acc: 0.8139 - val_loss: 0.0869 - val_acc: 0.8131\n",
          "name": "stdout"
        },
        {
          "output_type": "execute_result",
          "execution_count": 10,
          "data": {
            "text/plain": "<keras.callbacks.History at 0x7fcb8c7f0860>"
          },
          "metadata": {}
        }
      ]
    },
    {
      "metadata": {
        "trusted": true,
        "_uuid": "aed85e403c7051fb9690e8bc8caf02787e78ea24"
      },
      "cell_type": "code",
      "source": "",
      "execution_count": null,
      "outputs": []
    },
    {
      "metadata": {
        "trusted": true,
        "_uuid": "15ab7babcb3620ff0190b21edaa5d3d864cb5a81"
      },
      "cell_type": "code",
      "source": "import matplotlib.pyplot as plt",
      "execution_count": 12,
      "outputs": []
    },
    {
      "metadata": {
        "trusted": true,
        "_uuid": "2102e83d41f4f747cbe0a5a5291fdc1a9dd21c04"
      },
      "cell_type": "code",
      "source": "plt.imshow(xtest[0].reshape((28,28)))",
      "execution_count": 14,
      "outputs": [
        {
          "output_type": "execute_result",
          "execution_count": 14,
          "data": {
            "text/plain": "<matplotlib.image.AxesImage at 0x7fcb6612ec88>"
          },
          "metadata": {}
        },
        {
          "output_type": "display_data",
          "data": {
            "text/plain": "<Figure size 432x288 with 1 Axes>",
            "image/png": "[encoded data removed]"
          },
          "metadata": {}
        }
      ]
    },
    {
      "metadata": {
        "trusted": true,
        "_uuid": "9ebb1a8feaab8f644f853ba10406ac119212595f"
      },
      "cell_type": "code",
      "source": "mnist_test=model.predict(xtest)",
      "execution_count": 18,
      "outputs": []
    },
    {
      "metadata": {
        "trusted": true,
        "_uuid": "fa163844d97c9851e0b16715a7e55e016ab3799b"
      },
      "cell_type": "code",
      "source": "plt.imshow(mnist_test[0].reshape((28,28)))",
      "execution_count": 21,
      "outputs": [
        {
          "output_type": "execute_result",
          "execution_count": 21,
          "data": {
            "text/plain": "<matplotlib.image.AxesImage at 0x7fcb660636d8>"
          },
          "metadata": {}
        },
        {
          "output_type": "display_data",
          "data": {
            "text/plain": "<Figure size 432x288 with 1 Axes>",
            "image/png": "[encoded data removed]"
          },
          "metadata": {}
        }
      ]
    },
    {
      "metadata": {
        "trusted": true,
        "_uuid": "7a3c0146fedc08f6623e3879091e78d6952af4e2"
      },
      "cell_type": "code",
      "source": "plt.imshow(xtest[4].reshape((28,28)))\n    ",
      "execution_count": 23,
      "outputs": [
        {
          "output_type": "execute_result",
          "execution_count": 23,
          "data": {
            "text/plain": "<matplotlib.image.AxesImage at 0x7fcb65f87fd0>"
          },
          "metadata": {}
        },
        {
          "output_type": "display_data",
          "data": {
            "text/plain": "<Figure size 432x288 with 1 Axes>",
            "image/png": "[encoded data removed]"
          },
          "metadata": {}
        }
      ]
    },
    {
      "metadata": {
        "trusted": true,
        "_uuid": "22c1b14339e32dd73fe96a6fbc7c1b032bb7b382"
      },
      "cell_type": "code",
      "source": "plt.imshow(mnist_test[4].reshape((28,28)))",
      "execution_count": 24,
      "outputs": [
        {
          "output_type": "execute_result",
          "execution_count": 24,
          "data": {
            "text/plain": "<matplotlib.image.AxesImage at 0x7fcb65f680b8>"
          },
          "metadata": {}
        },
        {
          "output_type": "display_data",
          "data": {
            "text/plain": "<Figure size 432x288 with 1 Axes>",
            "image/png": "[encoded data removed]"
          },
          "metadata": {}
        }
      ]
    },
    {
      "metadata": {
        "trusted": true,
        "_uuid": "ee4506b154cc72f557943af4de849fb1b8384016"
      },
      "cell_type": "code",
      "source": "",
      "execution_count": null,
      "outputs": []
    }
  ],
  "metadata": {
    "kernelspec": {
      "display_name": "Python 3",
      "language": "python",
      "name": "python3"
    },
    "language_info": {
      "name": "python",
      "version": "3.6.6",
      "mimetype": "text/x-python",
      "codemirror_mode": {
        "name": "ipython",
        "version": 3
      },
      "pygments_lexer": "ipython3",
      "nbconvert_exporter": "python",
      "file_extension": ".py"
    }
  },
  "nbformat": 4,
  "nbformat_minor": 1
}