{
  "cells": [
    {
      "metadata": {
        "_uuid": "8f2839f25d086af736a60e9eeb907d3b93b6e0e5",
        "_cell_guid": "b1076dfc-b9ad-4769-8c92-a6c4dae69d19",
        "trusted": true
      },
      "cell_type": "code",
      "source": "# This Python 3 environment comes with many helpful analytics libraries installed\n# It is defined by the kaggle/python docker image: https://github.com/kaggle/docker-python\n# For example, here's several helpful packages to load in \n\nimport numpy as np # linear algebra\nimport pandas as pd # data processing, CSV file I/O (e.g. pd.read_csv)\nfrom keras.datasets import mnist\n# Input data files are available in the \"../input/\" directory.\n# For example, running this (by clicking run or pressing Shift+Enter) will list the files in the input directory\nfrom keras.layers import Input,Dense,Flatten,Conv2D,MaxPooling2D,GlobalAveragePooling2D,BatchNormalization\nfrom keras.models import Model\nimport os\nprint(os.listdir(\"../input\"))\n\n# Any results you write to the current directory are saved as output.",
      "execution_count": 4,
      "outputs": [
        {
          "output_type": "stream",
          "text": "[]\n",
          "name": "stdout"
        }
      ]
    },
    {
      "metadata": {
        "_cell_guid": "79c7e3d0-c299-4dcb-8224-4455121ee9b0",
        "_uuid": "d629ff2d2480ee46fbb7e2d37f6b5fab8052498a",
        "trusted": true
      },
      "cell_type": "code",
      "source": "(xtrain,ytrain),(xtest,ytest)=mnist.load_data()",
      "execution_count": 2,
      "outputs": [
        {
          "output_type": "stream",
          "text": "Downloading data from https://s3.amazonaws.com/img-datasets/mnist.npz\n11493376/11490434 [==============================] - 0s 0us/step\n",
          "name": "stdout"
        }
      ]
    },
    {
      "metadata": {
        "trusted": true,
        "_uuid": "5945e009ea20a40803bc681adddc795db2230398"
      },
      "cell_type": "code",
      "source": "xtrain1=xtrain.astype('float32')/255.0\nxtest1=xtest.astype('float32')/255.0\nxtrain1=xtrain1.reshape((len(xtrain1),np.prod(xtrain1.shape[1:])))\nxtest1=xtest1.reshape((len(xtest1),np.prod(xtest1.shape[1:])))\nprint(xtrain1.shape)\nprint(xtest1.shape)",
      "execution_count": 16,
      "outputs": [
        {
          "output_type": "stream",
          "text": "(60000, 784)\n(10000, 784)\n",
          "name": "stdout"
        }
      ]
    },
    {
      "metadata": {
        "trusted": true,
        "_uuid": "85e6465e7fd93a7a2521cd6e0c0306bf58b3bd86"
      },
      "cell_type": "code",
      "source": "encoding_dims=32\ninput1=Input(shape=(784,))\nencod=Dense(encoding_dims,activation='relu')(input1)\ndecod=Dense(784,activation='sigmoid')(encod)\nautoencoder=Model(inputs=input1,outputs=decod)",
      "execution_count": 11,
      "outputs": []
    },
    {
      "metadata": {
        "trusted": true,
        "_uuid": "6047ed69100c82950a53aa9c39ddf677b117e4d9"
      },
      "cell_type": "code",
      "source": "autoencoder.summary()",
      "execution_count": 12,
      "outputs": [
        {
          "output_type": "stream",
          "text": "_________________________________________________________________\nLayer (type)                 Output Shape              Param #   \n=================================================================\ninput_3 (InputLayer)         (None, 784)               0         \n_________________________________________________________________\ndense_5 (Dense)              (None, 32)                25120     \n_________________________________________________________________\ndense_6 (Dense)              (None, 784)               25872     \n=================================================================\nTotal params: 50,992\nTrainable params: 50,992\nNon-trainable params: 0\n_________________________________________________________________\n",
          "name": "stdout"
        }
      ]
    },
    {
      "metadata": {
        "trusted": true,
        "_uuid": "fdbd07871253ffd07c7505c7ffeef048f0d2fda4"
      },
      "cell_type": "code",
      "source": "encoder=Model(input1,encod)\nencoder_input=Input(shape=(encoding_dims,))\ndecoder_layer=autoencoder.layers[-1]\ndecoder=Model(encoder_input,decoder_layer(encoder_input))",
      "execution_count": 14,
      "outputs": []
    },
    {
      "metadata": {
        "trusted": true,
        "_uuid": "c579280d1946c52219db3e478c2044bf6f8d8f15"
      },
      "cell_type": "code",
      "source": "autoencoder.compile(optimizer='adam',loss='binary_crossentropy')",
      "execution_count": 15,
      "outputs": []
    },
    {
      "metadata": {
        "trusted": true,
        "scrolled": false,
        "_uuid": "c8070135e5a2551275e3989ccf407e3f54df047d"
      },
      "cell_type": "code",
      "source": "autoencoder.fit(xtrain1,xtrain1,epochs=50,batch_size=256,shuffle=True,validation_data=(xtest1,xtest1))",
      "execution_count": 17,
      "outputs": [
        {
          "output_type": "stream",
          "text": "Train on 60000 samples, validate on 10000 samples\nEpoch 1/50\n60000/60000 [==============================] - 4s 64us/step - loss: 0.2766 - val_loss: 0.1891\nEpoch 2/50\n60000/60000 [==============================] - 3s 50us/step - loss: 0.1691 - val_loss: 0.1516\nEpoch 3/50\n60000/60000 [==============================] - 3s 49us/step - loss: 0.1428 - val_loss: 0.1325\nEpoch 4/50\n60000/60000 [==============================] - 3s 50us/step - loss: 0.1276 - val_loss: 0.1203\nEpoch 5/50\n60000/60000 [==============================] - 3s 49us/step - loss: 0.1173 - val_loss: 0.1119\nEpoch 6/50\n60000/60000 [==============================] - 3s 50us/step - loss: 0.1102 - val_loss: 0.1061\nEpoch 7/50\n60000/60000 [==============================] - 3s 49us/step - loss: 0.1053 - val_loss: 0.1019\nEpoch 8/50\n60000/60000 [==============================] - 3s 50us/step - loss: 0.1017 - val_loss: 0.0989\nEpoch 9/50\n60000/60000 [==============================] - 3s 49us/step - loss: 0.0992 - val_loss: 0.0969\nEpoch 10/50\n60000/60000 [==============================] - 3s 49us/step - loss: 0.0974 - val_loss: 0.0954\nEpoch 11/50\n60000/60000 [==============================] - 3s 50us/step - loss: 0.0963 - val_loss: 0.0945\nEpoch 12/50\n60000/60000 [==============================] - 3s 51us/step - loss: 0.0955 - val_loss: 0.0938\nEpoch 13/50\n60000/60000 [==============================] - 3s 51us/step - loss: 0.0949 - val_loss: 0.0933\nEpoch 14/50\n60000/60000 [==============================] - 3s 52us/step - loss: 0.0945 - val_loss: 0.0931\nEpoch 15/50\n60000/60000 [==============================] - 3s 52us/step - loss: 0.0942 - val_loss: 0.0928\nEpoch 16/50\n60000/60000 [==============================] - 3s 52us/step - loss: 0.0940 - val_loss: 0.0926\nEpoch 17/50\n60000/60000 [==============================] - 3s 52us/step - loss: 0.0938 - val_loss: 0.0925\nEpoch 18/50\n60000/60000 [==============================] - 3s 52us/step - loss: 0.0937 - val_loss: 0.0924\nEpoch 19/50\n60000/60000 [==============================] - 3s 50us/step - loss: 0.0936 - val_loss: 0.0923\nEpoch 20/50\n60000/60000 [==============================] - 3s 52us/step - loss: 0.0935 - val_loss: 0.0923\nEpoch 21/50\n60000/60000 [==============================] - 3s 51us/step - loss: 0.0934 - val_loss: 0.0922\nEpoch 22/50\n60000/60000 [==============================] - 3s 51us/step - loss: 0.0933 - val_loss: 0.0921\nEpoch 23/50\n60000/60000 [==============================] - 3s 52us/step - loss: 0.0933 - val_loss: 0.0921\nEpoch 24/50\n60000/60000 [==============================] - 3s 52us/step - loss: 0.0932 - val_loss: 0.0920\nEpoch 25/50\n60000/60000 [==============================] - 3s 52us/step - loss: 0.0931 - val_loss: 0.0920\nEpoch 26/50\n60000/60000 [==============================] - 3s 53us/step - loss: 0.0931 - val_loss: 0.0919\nEpoch 27/50\n60000/60000 [==============================] - 3s 52us/step - loss: 0.0931 - val_loss: 0.0919\nEpoch 28/50\n60000/60000 [==============================] - 3s 58us/step - loss: 0.0930 - val_loss: 0.0919\nEpoch 29/50\n60000/60000 [==============================] - 3s 52us/step - loss: 0.0930 - val_loss: 0.0918\nEpoch 30/50\n60000/60000 [==============================] - 3s 52us/step - loss: 0.0930 - val_loss: 0.0917\nEpoch 31/50\n60000/60000 [==============================] - 3s 51us/step - loss: 0.0929 - val_loss: 0.0918\nEpoch 32/50\n60000/60000 [==============================] - 3s 53us/step - loss: 0.0929 - val_loss: 0.0917\nEpoch 33/50\n60000/60000 [==============================] - 3s 52us/step - loss: 0.0929 - val_loss: 0.0917\nEpoch 34/50\n60000/60000 [==============================] - 4s 59us/step - loss: 0.0929 - val_loss: 0.0918\nEpoch 35/50\n60000/60000 [==============================] - 4s 59us/step - loss: 0.0928 - val_loss: 0.0917\nEpoch 36/50\n60000/60000 [==============================] - 4s 60us/step - loss: 0.0928 - val_loss: 0.0917\nEpoch 37/50\n60000/60000 [==============================] - 3s 53us/step - loss: 0.0928 - val_loss: 0.0917\nEpoch 38/50\n60000/60000 [==============================] - 3s 52us/step - loss: 0.0928 - val_loss: 0.0916\nEpoch 39/50\n60000/60000 [==============================] - 3s 51us/step - loss: 0.0928 - val_loss: 0.0917\nEpoch 40/50\n60000/60000 [==============================] - 3s 51us/step - loss: 0.0928 - val_loss: 0.0916\nEpoch 41/50\n60000/60000 [==============================] - 3s 51us/step - loss: 0.0927 - val_loss: 0.0916\nEpoch 42/50\n60000/60000 [==============================] - 3s 52us/step - loss: 0.0927 - val_loss: 0.0916\nEpoch 43/50\n60000/60000 [==============================] - 3s 57us/step - loss: 0.0927 - val_loss: 0.0916\nEpoch 44/50\n60000/60000 [==============================] - 3s 58us/step - loss: 0.0927 - val_loss: 0.0916\nEpoch 45/50\n60000/60000 [==============================] - 3s 52us/step - loss: 0.0927 - val_loss: 0.0916\nEpoch 46/50\n60000/60000 [==============================] - 3s 52us/step - loss: 0.0927 - val_loss: 0.0915\nEpoch 47/50\n60000/60000 [==============================] - 3s 52us/step - loss: 0.0926 - val_loss: 0.0916\nEpoch 48/50\n60000/60000 [==============================] - 3s 51us/step - loss: 0.0926 - val_loss: 0.0915\nEpoch 49/50\n60000/60000 [==============================] - 3s 50us/step - loss: 0.0926 - val_loss: 0.0917\nEpoch 50/50\n60000/60000 [==============================] - 3s 50us/step - loss: 0.0926 - val_loss: 0.0915\n",
          "name": "stdout"
        },
        {
          "output_type": "execute_result",
          "execution_count": 17,
          "data": {
            "text/plain": "<keras.callbacks.History at 0x7fd20215d860>"
          },
          "metadata": {}
        }
      ]
    },
    {
      "metadata": {
        "trusted": true,
        "_uuid": "1a8351405f4f1e3f1817842d0a7d5c0e6eebae88"
      },
      "cell_type": "code",
      "source": "encoded_imgs=encoder.predict(xtest1)",
      "execution_count": 18,
      "outputs": []
    },
    {
      "metadata": {
        "trusted": true,
        "_uuid": "13eddc54dd479fb42d9d58d47274f1000cc296fd"
      },
      "cell_type": "code",
      "source": "decoded_imgs=decoder.predict(encoded_imgs)",
      "execution_count": 19,
      "outputs": []
    },
    {
      "metadata": {
        "trusted": true,
        "_uuid": "a2346e920e74c8583f786f4c4dd9deb015ecda43"
      },
      "cell_type": "code",
      "source": "import matplotlib.pyplot as plt\nn=10\nplt.figure(figsize=(20,4))\nfor i in range(n):\n    ax=plt.subplot(2,n,i+1)\n    plt.imshow(xtest1[i].reshape(28,28))\n    plt.gray()\n    ax.get_xaxis().set_visible(False)\n    ax.get_yaxis().set_visible(False)\n    \n    ax=plt.subplot(2,n,i+1+n)\n    plt.imshow(decoded_imgs[i].reshape(28,28))\n    plt.gray()\n    ax.get_xaxis().set_visible(False)\n    ax.get_yaxis().set_visible(False)\nplt.show()",
      "execution_count": 20,
      "outputs": [
        {
          "output_type": "display_data",
          "data": {
            "text/plain": "<Figure size 1440x288 with 20 Axes>",
            "image/png": "[encoded data removed]"
          },
          "metadata": {}
        }
      ]
    },
    {
      "metadata": {
        "trusted": true,
        "_uuid": "a8165e2b9f58f4bd91d8bf2f52e852ccdf323828"
      },
      "cell_type": "code",
      "source": "",
      "execution_count": null,
      "outputs": []
    }
  ],
  "metadata": {
    "kernelspec": {
      "display_name": "Python 3",
      "language": "python",
      "name": "python3"
    },
    "language_info": {
      "name": "python",
      "version": "3.6.6",
      "mimetype": "text/x-python",
      "codemirror_mode": {
        "name": "ipython",
        "version": 3
      },
      "pygments_lexer": "ipython3",
      "nbconvert_exporter": "python",
      "file_extension": ".py"
    }
  },
  "nbformat": 4,
  "nbformat_minor": 1
}